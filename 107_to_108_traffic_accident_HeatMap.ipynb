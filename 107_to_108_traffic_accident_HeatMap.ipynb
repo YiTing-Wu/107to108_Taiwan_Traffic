{
 "cells": [
  {
   "cell_type": "code",
   "execution_count": null,
   "metadata": {},
   "outputs": [],
   "source": [
    "import pandas as pd\n",
    "import numpy as np"
   ]
  },
  {
   "cell_type": "code",
   "execution_count": null,
   "metadata": {},
   "outputs": [],
   "source": [
    "# 讀檔\n",
    "\n",
    "df107_A1 = pd.read_csv('C:/Users/Ting/Desktop/traffic/107A1.csv',encoding='utf-8')\n",
    "df107_A1.dropna(axis=0, how='any', inplace=True)#刪除空欄位\n",
    "\n",
    "df107_A2 = pd.read_csv('C:/Users/Ting/Desktop/traffic/107A2.csv',encoding='utf-8')\n",
    "df107_A2.dropna(axis=0, how='any', inplace=True)#刪除空欄位\n",
    "\n",
    "df108_A1 = pd.read_csv('C:/Users/Ting/Desktop/traffic/108A1.csv',encoding='utf-8')\n",
    "df108_A1.dropna(axis=0, how='any', inplace=True)#刪除空欄位\n",
    "\n",
    "df108_A2 = pd.read_csv('C:/Users/Ting/Desktop/traffic/108A2.csv',encoding='utf-8')\n",
    "df108_A2.dropna(axis=0, how='any', inplace=True)#刪除空欄位"
   ]
  },
  {
   "cell_type": "code",
   "execution_count": null,
   "metadata": {
    "scrolled": true
   },
   "outputs": [],
   "source": [
    "# 將107年的A1跟A2Merge\n",
    "df107 = df107_A1.append(df107_A2, ignore_index=True)"
   ]
  },
  {
   "cell_type": "code",
   "execution_count": null,
   "metadata": {
    "scrolled": true
   },
   "outputs": [],
   "source": [
    "# 將108年的A1跟A2Merge\n",
    "df108 = df108_A1.append(df108_A2, ignore_index=True)"
   ]
  },
  {
   "cell_type": "code",
   "execution_count": null,
   "metadata": {},
   "outputs": [],
   "source": [
    "# 取經緯度\n",
    "df107_latlng = df107[['緯度','經度']]\n",
    "df107_latlng"
   ]
  },
  {
   "cell_type": "code",
   "execution_count": null,
   "metadata": {},
   "outputs": [],
   "source": [
    "# 取經緯度\n",
    "df108_latlng = df108[['緯度','經度']]\n",
    "df108_latlng"
   ]
  },
  {
   "cell_type": "code",
   "execution_count": null,
   "metadata": {},
   "outputs": [],
   "source": [
    "df107_loc = df107_latlng.to_numpy()\n",
    "df108_loc = df108_latlng.to_numpy()"
   ]
  },
  {
   "cell_type": "code",
   "execution_count": null,
   "metadata": {},
   "outputs": [],
   "source": [
    "print(str(len(df107_loc))+','+str(len(df108_loc)))"
   ]
  },
  {
   "cell_type": "code",
   "execution_count": null,
   "metadata": {},
   "outputs": [],
   "source": [
    "df=[]\n",
    "df.append(df107_loc.tolist())\n",
    "df.append(df108_loc.tolist())"
   ]
  },
  {
   "cell_type": "code",
   "execution_count": null,
   "metadata": {
    "scrolled": true
   },
   "outputs": [],
   "source": [
    "import folium\n",
    "from folium.plugins import HeatMap\n",
    "from folium.plugins import HeatMapWithTime\n",
    "\n",
    "fmap = folium.Map([23.770876, 120.934757], zoom_start=8)\n",
    "\n",
    "# HeatMap(df107_loc, radius=7).add_to(fmap)\n",
    "HeatMapWithTime(df, radius=3).add_to(fmap)\n",
    "fmap"
   ]
  },
  {
   "cell_type": "code",
   "execution_count": null,
   "metadata": {},
   "outputs": [],
   "source": [
    "# 儲存成html檔\n",
    "fmap.save('C:/Users/Ting/Desktop/map.html')"
   ]
  }
 ],
 "metadata": {
  "kernelspec": {
   "display_name": "Python 3",
   "language": "python",
   "name": "python3"
  },
  "language_info": {
   "codemirror_mode": {
    "name": "ipython",
    "version": 3
   },
   "file_extension": ".py",
   "mimetype": "text/x-python",
   "name": "python",
   "nbconvert_exporter": "python",
   "pygments_lexer": "ipython3",
   "version": "3.7.7"
  }
 },
 "nbformat": 4,
 "nbformat_minor": 4
}
